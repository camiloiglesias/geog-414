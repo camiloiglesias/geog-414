{
  "cells": [
    {
      "cell_type": "markdown",
      "metadata": {
        "id": "2Xn8STwQ4urB"
      },
      "source": [
        "# Creating Interactive Maps\n",
        "\n",
        "```{contents}\n",
        ":local:\n",
        ":depth: 2\n",
        "```\n",
        "\n",
        "## Introduction\n",
        "\n",
        "## Technical requirements\n",
        "\n",
        "```bash\n",
        "conda create -n gee python\n",
        "conda activate gee\n",
        "conda install -c conda-forge mamba\n",
        "mamba install -c conda-forge pygis\n",
        "```\n",
        "\n",
        "```bash\n",
        "jupyter lab\n",
        "```"
      ],
      "id": "2Xn8STwQ4urB"
    },
    {
      "cell_type": "code",
      "execution_count": null,
      "metadata": {
        "id": "c3QKGmvM4urG"
      },
      "outputs": [],
      "source": [
        "# %pip install pygis"
      ],
      "id": "c3QKGmvM4urG"
    },
    {
      "cell_type": "code",
      "execution_count": null,
      "metadata": {
        "id": "LLS0VU4i4urJ"
      },
      "outputs": [],
      "source": [
        "import ee\n",
        "import geemap"
      ],
      "id": "LLS0VU4i4urJ"
    },
    {
      "cell_type": "code",
      "execution_count": null,
      "metadata": {
        "id": "Ha6PRiqC4urL"
      },
      "outputs": [],
      "source": [
        "geemap.ee_initialize()"
      ],
      "id": "Ha6PRiqC4urL"
    },
    {
      "cell_type": "markdown",
      "metadata": {
        "id": "GMeMSz_z4urL"
      },
      "source": [
        "## Plotting backends\n",
        "\n",
        "### Ipyleaflet"
      ],
      "id": "GMeMSz_z4urL"
    },
    {
      "cell_type": "code",
      "execution_count": null,
      "metadata": {
        "id": "D1CQgmC14urM"
      },
      "outputs": [],
      "source": [
        "import geemap"
      ],
      "id": "D1CQgmC14urM"
    },
    {
      "cell_type": "code",
      "execution_count": null,
      "metadata": {
        "id": "w8Qz-r8D4urM"
      },
      "outputs": [],
      "source": [
        "Map = geemap.Map()"
      ],
      "id": "w8Qz-r8D4urM"
    },
    {
      "cell_type": "code",
      "execution_count": null,
      "metadata": {
        "id": "N7ZZYGOJ4urN"
      },
      "outputs": [],
      "source": [
        "Map"
      ],
      "id": "N7ZZYGOJ4urN"
    },
    {
      "cell_type": "code",
      "execution_count": null,
      "metadata": {
        "id": "Q-emizai4urO"
      },
      "outputs": [],
      "source": [
        "Map = geemap.Map(center=[40, -100], zoom=4, height=600)\n",
        "Map"
      ],
      "id": "Q-emizai4urO"
    },
    {
      "cell_type": "code",
      "execution_count": null,
      "metadata": {
        "id": "bKwSWUSg4urO"
      },
      "outputs": [],
      "source": [
        "Map = geemap.Map(data_ctrl=False, toolbar_ctrl=False, draw_ctrl=False)\n",
        "Map"
      ],
      "id": "bKwSWUSg4urO"
    },
    {
      "cell_type": "code",
      "execution_count": null,
      "metadata": {
        "id": "sva_v4Fa4urP"
      },
      "outputs": [],
      "source": [
        "Map = geemap.Map(lite_mode=True)\n",
        "Map"
      ],
      "id": "sva_v4Fa4urP"
    },
    {
      "cell_type": "code",
      "execution_count": null,
      "metadata": {
        "id": "_AMl8Y_h4urP"
      },
      "outputs": [],
      "source": [
        "Map.save('ipyleaflet.html')"
      ],
      "id": "_AMl8Y_h4urP"
    },
    {
      "cell_type": "markdown",
      "metadata": {
        "id": "JaQX9UzY4urP"
      },
      "source": [
        "### Folium"
      ],
      "id": "JaQX9UzY4urP"
    },
    {
      "cell_type": "code",
      "execution_count": null,
      "metadata": {
        "id": "8Zl5Qmld4urQ"
      },
      "outputs": [],
      "source": [
        "import geemap.foliumap as geemap"
      ],
      "id": "8Zl5Qmld4urQ"
    },
    {
      "cell_type": "code",
      "execution_count": null,
      "metadata": {
        "id": "XCkMlkRf4urQ"
      },
      "outputs": [],
      "source": [
        "Map = geemap.Map(center=[40, -100], zoom=4, height=600)\n",
        "Map"
      ],
      "id": "XCkMlkRf4urQ"
    },
    {
      "cell_type": "code",
      "execution_count": null,
      "metadata": {
        "id": "73tr9dUE4urQ"
      },
      "outputs": [],
      "source": [
        "Map.save('folium.html')"
      ],
      "id": "73tr9dUE4urQ"
    },
    {
      "cell_type": "markdown",
      "metadata": {
        "id": "70CxAWzw4urQ"
      },
      "source": [
        "### Plotly"
      ],
      "id": "70CxAWzw4urQ"
    },
    {
      "cell_type": "code",
      "execution_count": null,
      "metadata": {
        "id": "gPjvG_gf4urQ"
      },
      "outputs": [],
      "source": [
        "import geemap.plotlymap as geemap"
      ],
      "id": "gPjvG_gf4urQ"
    },
    {
      "cell_type": "code",
      "execution_count": null,
      "metadata": {
        "id": "ENKE5sDp4urQ"
      },
      "outputs": [],
      "source": [
        "Map = geemap.Map()\n",
        "Map"
      ],
      "id": "ENKE5sDp4urQ"
    },
    {
      "cell_type": "code",
      "execution_count": null,
      "metadata": {
        "id": "rFKgSvDC4urR"
      },
      "outputs": [],
      "source": [
        "# geemap.fix_widget_error()"
      ],
      "id": "rFKgSvDC4urR"
    },
    {
      "cell_type": "markdown",
      "metadata": {
        "id": "n9XPekox4urR"
      },
      "source": [
        "### Pydeck"
      ],
      "id": "n9XPekox4urR"
    },
    {
      "cell_type": "code",
      "execution_count": null,
      "metadata": {
        "id": "m6uz2gDS4urR"
      },
      "outputs": [],
      "source": [
        "import geemap.deck as geemap"
      ],
      "id": "m6uz2gDS4urR"
    },
    {
      "cell_type": "code",
      "execution_count": null,
      "metadata": {
        "id": "mv582sHc4urR"
      },
      "outputs": [],
      "source": [
        "Map = geemap.Map()\n",
        "Map"
      ],
      "id": "mv582sHc4urR"
    },
    {
      "cell_type": "markdown",
      "metadata": {
        "id": "dvGFS6jC4urS"
      },
      "source": [
        "### KeplerGL"
      ],
      "id": "dvGFS6jC4urS"
    },
    {
      "cell_type": "code",
      "execution_count": null,
      "metadata": {
        "id": "jmrkjuDn4urS"
      },
      "outputs": [],
      "source": [
        "import geemap.kepler as geemap"
      ],
      "id": "jmrkjuDn4urS"
    },
    {
      "cell_type": "code",
      "execution_count": null,
      "metadata": {
        "id": "sEFq1yaG4urS"
      },
      "outputs": [],
      "source": [
        "Map = geemap.Map()\n",
        "Map"
      ],
      "id": "sEFq1yaG4urS"
    },
    {
      "cell_type": "markdown",
      "metadata": {
        "id": "r2d6haPh4urS"
      },
      "source": [
        "## Adding basemaps\n",
        "\n",
        "### Built-in basemaps"
      ],
      "id": "r2d6haPh4urS"
    },
    {
      "cell_type": "code",
      "execution_count": null,
      "metadata": {
        "id": "yrkJ6E374urS"
      },
      "outputs": [],
      "source": [
        "import geemap"
      ],
      "id": "yrkJ6E374urS"
    },
    {
      "cell_type": "code",
      "execution_count": null,
      "metadata": {
        "id": "k7e51H0Y4urS"
      },
      "outputs": [],
      "source": [
        "Map = geemap.Map(basemap='HYBRID')\n",
        "Map"
      ],
      "id": "k7e51H0Y4urS"
    },
    {
      "cell_type": "code",
      "execution_count": null,
      "metadata": {
        "id": "o4lsT9qf4urT"
      },
      "outputs": [],
      "source": [
        "Map.add_basemap('OpenTopoMap')"
      ],
      "id": "o4lsT9qf4urT"
    },
    {
      "cell_type": "code",
      "execution_count": null,
      "metadata": {
        "id": "cHikBOa84urT"
      },
      "outputs": [],
      "source": [
        "for basemap in geemap.basemaps.keys():\n",
        "    print(basemap)"
      ],
      "id": "cHikBOa84urT"
    },
    {
      "cell_type": "code",
      "execution_count": null,
      "metadata": {
        "id": "av5YozOx4urT"
      },
      "outputs": [],
      "source": [
        "len(geemap.basemaps)"
      ],
      "id": "av5YozOx4urT"
    },
    {
      "cell_type": "markdown",
      "metadata": {
        "id": "rY4NfzLv4urT"
      },
      "source": [
        "### XYZ tiles"
      ],
      "id": "rY4NfzLv4urT"
    },
    {
      "cell_type": "code",
      "execution_count": null,
      "metadata": {
        "id": "DShe-Zpe4urU"
      },
      "outputs": [],
      "source": [
        "Map = geemap.Map()\n",
        "Map.add_tile_layer(\n",
        "    url=\"https://mt1.google.com/vt/lyrs=p&x={x}&y={y}&z={z}\",\n",
        "    name=\"Google Terrain\",\n",
        "    attribution=\"Google\",\n",
        ")\n",
        "Map"
      ],
      "id": "DShe-Zpe4urU"
    },
    {
      "cell_type": "markdown",
      "metadata": {
        "id": "_ueK0JYG4urU"
      },
      "source": [
        "### WMS tiles"
      ],
      "id": "_ueK0JYG4urU"
    },
    {
      "cell_type": "code",
      "execution_count": null,
      "metadata": {
        "id": "IjXQ3L3B4urU"
      },
      "outputs": [],
      "source": [
        "Map = geemap.Map(center=[40, -100], zoom=4)\n",
        "url = 'https://www.mrlc.gov/geoserver/mrlc_display/NLCD_2019_Land_Cover_L48/wms?'\n",
        "Map.add_wms_layer(\n",
        "    url=url,\n",
        "    layers='NLCD_2019_Land_Cover_L48',\n",
        "    name='NLCD 2019',\n",
        "    format='image/png',\n",
        "    attribution='MRLC',\n",
        "    transparent=True,\n",
        ")\n",
        "Map"
      ],
      "id": "IjXQ3L3B4urU"
    },
    {
      "cell_type": "markdown",
      "metadata": {
        "id": "038aEzbw4urU"
      },
      "source": [
        "### Planet basemaps"
      ],
      "id": "038aEzbw4urU"
    },
    {
      "cell_type": "code",
      "execution_count": null,
      "metadata": {
        "id": "RV0DgPiL4urU"
      },
      "outputs": [],
      "source": [
        "import os\n",
        "\n",
        "os.environ[\"PLANET_API_KEY\"] = \"YOUR_API_KEY\""
      ],
      "id": "RV0DgPiL4urU"
    },
    {
      "cell_type": "code",
      "execution_count": null,
      "metadata": {
        "id": "KlAC350M4urV"
      },
      "outputs": [],
      "source": [
        "quarterly_tiles = geemap.planet_quarterly_tiles()\n",
        "for tile in quarterly_tiles:\n",
        "    print(tile)"
      ],
      "id": "KlAC350M4urV"
    },
    {
      "cell_type": "code",
      "execution_count": null,
      "metadata": {
        "id": "QZTtPfnB4urc"
      },
      "outputs": [],
      "source": [
        "monthly_tiles = geemap.planet_monthly_tiles()\n",
        "for tile in monthly_tiles:\n",
        "    print(tile)"
      ],
      "id": "QZTtPfnB4urc"
    },
    {
      "cell_type": "code",
      "execution_count": null,
      "metadata": {
        "id": "c2Cm7lqu4urc"
      },
      "outputs": [],
      "source": [
        "Map = geemap.Map()\n",
        "Map.add_planet_by_month(year=2020, month=8)\n",
        "Map"
      ],
      "id": "c2Cm7lqu4urc"
    },
    {
      "cell_type": "code",
      "execution_count": null,
      "metadata": {
        "id": "sU3Vy5064urc"
      },
      "outputs": [],
      "source": [
        "Map = geemap.Map()\n",
        "Map.add_planet_by_quarter(year=2019, quarter=2)\n",
        "Map"
      ],
      "id": "sU3Vy5064urc"
    },
    {
      "cell_type": "markdown",
      "metadata": {
        "id": "is2Mf9no4urd"
      },
      "source": [
        "### Basemap GUI"
      ],
      "id": "is2Mf9no4urd"
    },
    {
      "cell_type": "code",
      "execution_count": null,
      "metadata": {
        "id": "U2WUvRyR4urd"
      },
      "outputs": [],
      "source": [
        "import os\n",
        "\n",
        "os.environ[\"PLANET_API_KEY\"] = \"YOUR_API_KEY\""
      ],
      "id": "U2WUvRyR4urd"
    },
    {
      "cell_type": "code",
      "execution_count": null,
      "metadata": {
        "id": "JoeIpWlm4urd"
      },
      "outputs": [],
      "source": [
        "Map = geemap.Map()\n",
        "Map"
      ],
      "id": "JoeIpWlm4urd"
    },
    {
      "cell_type": "markdown",
      "metadata": {
        "id": "O5RXk4Hy4urd"
      },
      "source": [
        "## Summary"
      ],
      "id": "O5RXk4Hy4urd"
    }
  ],
  "metadata": {
    "kernelspec": {
      "display_name": "Python 3",
      "language": "python",
      "name": "python3"
    },
    "colab": {
      "provenance": []
    }
  },
  "nbformat": 4,
  "nbformat_minor": 5
}